{
 "cells": [
  {
   "cell_type": "code",
   "execution_count": 1,
   "id": "47e0f390-3fe6-4f3f-97a8-1fbc8b41ac41",
   "metadata": {
    "tags": []
   },
   "outputs": [
    {
     "name": "stdout",
     "output_type": "stream",
     "text": [
      "hola\n"
     ]
    }
   ],
   "source": [
    "#Crea las tablas en MySQL\n",
    "\n",
    "import MySQLdb  \n",
    "\n",
    "connection = MySQLdb.connect(\n",
    "    host=\"mysql\",          \n",
    "    user=\"my_app_user\",\n",
    "    passwd=\"my_app_pass\",  \n",
    "    db=\"my_app_db\",\n",
    "    port=3306\n",
    ")\n",
    "\n",
    "cursor = connection.cursor()\n",
    "\n",
    "# Ejecutar tus queries\n",
    "cursor.execute(\"DROP TABLE IF EXISTS penguins_raw;\")\n",
    "cursor.execute(\"\"\"\n",
    "CREATE TABLE penguins_raw (\n",
    "    species VARCHAR(50) NULL,\n",
    "    island VARCHAR(50) NULL,\n",
    "    bill_length_mm DOUBLE NULL,\n",
    "    bill_depth_mm DOUBLE NULL,\n",
    "    flipper_length_mm DOUBLE NULL,\n",
    "    body_mass_g DOUBLE NULL,\n",
    "    sex VARCHAR(10) NULL,\n",
    "    year INT NULL\n",
    ");\n",
    "\"\"\")\n",
    "\n",
    "cursor.execute(\"DROP TABLE IF EXISTS penguins_clean;\")\n",
    "cursor.execute(\"\"\"\n",
    "CREATE TABLE penguins_clean (\n",
    "    species INT NULL,\n",
    "    bill_length_mm DOUBLE NULL,\n",
    "    bill_depth_mm DOUBLE NULL,\n",
    "    flipper_length_mm DOUBLE NULL,\n",
    "    body_mass_g DOUBLE NULL,\n",
    "    year INT NULL,\n",
    "    island_Biscoe INT NULL,\n",
    "    island_Dream INT NULL,\n",
    "    island_Torgersen INT NULL,\n",
    "    sex_female INT NULL,\n",
    "    sex_male INT NULL\n",
    ");\n",
    "\"\"\")\n",
    "\n",
    "connection.commit()\n",
    "connection.close()"
   ]
  },
  {
   "cell_type": "code",
   "execution_count": 2,
   "id": "407a0b93-efa7-45a9-a1ad-bbf37b66f8bc",
   "metadata": {
    "tags": []
   },
   "outputs": [],
   "source": [
    "#Inserta la información cruda \n",
    "\n",
    "import palmerpenguins as pp\n",
    "from palmerpenguins import load_penguins\n",
    "import pandas as pd\n",
    "\"\"\"\n",
    "Función para insertar datos en la tabla MySQL\n",
    "\"\"\"\n",
    "TABLE_NAME = \"penguins_raw\"\n",
    "df = pp.load_penguins()\n",
    "\n",
    "\n",
    "connection = MySQLdb.connect(\n",
    "    host=\"mysql\",          \n",
    "    user=\"my_app_user\",\n",
    "    passwd=\"my_app_pass\",  \n",
    "    db=\"my_app_db\",\n",
    "    port=3306\n",
    ")\n",
    "\n",
    "cursor = connection.cursor()\n",
    "\n",
    "for _, row in df.iterrows():\n",
    "    sql = f\"\"\"\n",
    "    INSERT INTO {TABLE_NAME} \n",
    "    (species, island, bill_length_mm, bill_depth_mm, flipper_length_mm, body_mass_g, sex, year)\n",
    "    VALUES (%s, %s, %s, %s, %s, %s, %s, %s)\n",
    "    \"\"\"\n",
    "    values = (\n",
    "        row[\"species\"],\n",
    "        row[\"island\"],\n",
    "        None if pd.isna(row[\"bill_length_mm\"]) else float(row[\"bill_length_mm\"]),\n",
    "        None if pd.isna(row[\"bill_depth_mm\"]) else float(row[\"bill_depth_mm\"]),\n",
    "        None if pd.isna(row[\"flipper_length_mm\"]) else float(row[\"flipper_length_mm\"]),\n",
    "        None if pd.isna(row[\"body_mass_g\"]) else float(row[\"body_mass_g\"]),\n",
    "        row[\"sex\"] if pd.notna(row[\"sex\"]) else None,\n",
    "        int(row[\"year\"]),\n",
    "    )\n",
    "    \n",
    "    cursor.execute(sql, values)\n",
    "\n",
    "connection.commit()\n",
    "connection.close()"
   ]
  },
  {
   "cell_type": "code",
   "execution_count": 3,
   "id": "6f83f7d4-f3d8-49b4-abc9-3790d96f7771",
   "metadata": {
    "tags": []
   },
   "outputs": [
    {
     "name": "stderr",
     "output_type": "stream",
     "text": [
      "/tmp/ipykernel_45/2044866645.py:11: UserWarning: pandas only supports SQLAlchemy connectable (engine/connection) or database string URI or sqlite3 DBAPI2 connection. Other DBAPI2 objects are not tested. Please consider using SQLAlchemy.\n",
      "  df = pd.read_sql(query, conn)\n"
     ]
    }
   ],
   "source": [
    "#Trae la información desde MySQL\n",
    "conn = MySQLdb.connect(\n",
    "    host=\"mysql\",         \n",
    "    user=\"my_app_user\",\n",
    "    passwd=\"my_app_pass\",  \n",
    "    db=\"my_app_db\",\n",
    "    port=3306\n",
    ")\n",
    "\n",
    "query = \"SELECT * FROM penguins_raw\"\n",
    "df = pd.read_sql(query, conn)"
   ]
  },
  {
   "cell_type": "code",
   "execution_count": 4,
   "id": "ea42746f-cb1d-45ff-baed-2e06a6c2c7b1",
   "metadata": {
    "tags": []
   },
   "outputs": [],
   "source": [
    "#Limpia los datos \n",
    "\n",
    "from sklearn.preprocessing import OneHotEncoder\n",
    "import numpy as np\n",
    "\n",
    "df[df.isna().any(axis=1)]\n",
    "df.dropna(inplace=True)\n",
    "categorical_cols = ['sex','island']\n",
    "encoder = OneHotEncoder(handle_unknown='ignore')\n",
    "x = df.drop(columns=['species'])\n",
    "y = df['species']\n",
    "x_encoded = encoder.fit_transform(x[categorical_cols])\n",
    "X_numeric = x.drop(columns=categorical_cols)\n",
    "X_final = np.hstack((X_numeric.values, x_encoded.toarray()))\n",
    "\n",
    "df_encoded = pd.get_dummies(df, columns=['island','sex'])\n",
    "bool_cols = df_encoded.select_dtypes(include='bool').columns\n",
    "df_encoded[bool_cols] = df_encoded[bool_cols].astype(int)\n",
    "df_encoded.head()\n",
    "df_encoded['species'] = df_encoded['species'].apply(lambda x: \n",
    "                        1 if x == 'Adelie' else \n",
    "                        2 if x == 'Chinstrap' else \n",
    "                        3 if x == 'Gentoo' else \n",
    "                        None)"
   ]
  },
  {
   "cell_type": "code",
   "execution_count": 5,
   "id": "0d7303fe-8103-4d0e-ad75-75294b9c6a8e",
   "metadata": {
    "tags": []
   },
   "outputs": [],
   "source": [
    "# Inserta la información limpia en MySQL\n",
    "TABLE_NAME = \"penguins_clean\"\n",
    "\n",
    "connection = MySQLdb.connect(\n",
    "    host=\"mysql\",          \n",
    "    user=\"my_app_user\",\n",
    "    passwd=\"my_app_pass\",  \n",
    "    db=\"my_app_db\",\n",
    "    port=3306\n",
    ")\n",
    "\n",
    "cursor = connection.cursor()\n",
    "\n",
    "insert_sql = \"\"\"\n",
    "    INSERT INTO penguins_clean (\n",
    "        species, bill_length_mm, bill_depth_mm, flipper_length_mm, \n",
    "        body_mass_g, year, island_Biscoe, island_Dream, island_Torgersen, \n",
    "        sex_female, sex_male\n",
    "    )\n",
    "    VALUES (%s, %s, %s, %s, %s, %s, %s, %s, %s, %s, %s)\n",
    "\"\"\"\n",
    "\n",
    "# Genera los valores a insertar\n",
    "values = [\n",
    "    (\n",
    "        int(row[\"species\"]),\n",
    "        None if pd.isna(row[\"bill_length_mm\"]) else float(row[\"bill_length_mm\"]),\n",
    "        None if pd.isna(row[\"bill_depth_mm\"]) else float(row[\"bill_depth_mm\"]),\n",
    "        None if pd.isna(row[\"flipper_length_mm\"]) else float(row[\"flipper_length_mm\"]),\n",
    "        None if pd.isna(row[\"body_mass_g\"]) else float(row[\"body_mass_g\"]),\n",
    "        int(row[\"year\"]),\n",
    "        int(row[\"island_Biscoe\"]),\n",
    "        int(row[\"island_Dream\"]),\n",
    "        int(row[\"island_Torgersen\"]),\n",
    "        int(row[\"sex_female\"]),\n",
    "        int(row[\"sex_male\"]),\n",
    "    )\n",
    "    for _, row in df_encoded.iterrows()\n",
    "]\n",
    "\n",
    "# Inserta múltiples filas\n",
    "cursor.executemany(insert_sql, values)\n",
    "\n",
    "# Confirma los cambios\n",
    "connection.commit()\n",
    "\n",
    "# Cierra conexión\n",
    "cursor.close()\n",
    "connection.close()\n"
   ]
  },
  {
   "cell_type": "code",
   "execution_count": 6,
   "id": "288608d2-b98f-4232-ac9d-47c146204283",
   "metadata": {
    "tags": []
   },
   "outputs": [
    {
     "name": "stderr",
     "output_type": "stream",
     "text": [
      "/tmp/ipykernel_45/199009257.py:11: UserWarning: pandas only supports SQLAlchemy connectable (engine/connection) or database string URI or sqlite3 DBAPI2 connection. Other DBAPI2 objects are not tested. Please consider using SQLAlchemy.\n",
      "  df_limpio = pd.read_sql(query, conn)\n"
     ]
    }
   ],
   "source": [
    "#Trae la data limpia para entrenar el modelo\n",
    "conn = MySQLdb.connect(\n",
    "    host=\"mysql\",          \n",
    "    user=\"my_app_user\",\n",
    "    passwd=\"my_app_pass\",  \n",
    "    db=\"my_app_db\",\n",
    "    port=3306\n",
    ")\n",
    "\n",
    "query = \"SELECT * FROM penguins_clean\"\n",
    "df_limpio = pd.read_sql(query, conn)"
   ]
  },
  {
   "cell_type": "code",
   "execution_count": 7,
   "id": "89b986d9-c9c6-40d7-9597-4dd1b73ce341",
   "metadata": {
    "tags": []
   },
   "outputs": [
    {
     "name": "stderr",
     "output_type": "stream",
     "text": [
      "Registered model 'lucio_model3' already exists. Creating a new version of this model...\n",
      "2025/09/12 04:09:37 INFO mlflow.tracking._model_registry.client: Waiting up to 300 seconds for model version to finish creation. Model name: lucio_model3, version 2\n",
      "Created version '2' of model 'lucio_model3'.\n"
     ]
    },
    {
     "name": "stdout",
     "output_type": "stream",
     "text": [
      "✅ Modelo entrenado, logueado y registrado en MLflow\n"
     ]
    }
   ],
   "source": [
    "import mlflow\n",
    "import mlflow.sklearn\n",
    "from sklearn.linear_model import LogisticRegression\n",
    "from sklearn.model_selection import train_test_split\n",
    "\n",
    "# ==============================\n",
    "# 1. Conectar con tu MLflow server\n",
    "# ==============================\n",
    "mlflow.set_tracking_uri(\"http://10.43.100.98:5005\")  # Ajusta si tu server corre en otro host/puerto\n",
    "\n",
    "# ==============================\n",
    "# 2. Preparar dataset\n",
    "# ==============================\n",
    "df = df_limpio  # <-- tu DataFrame limpio\n",
    "X = df.drop(\"species\", axis=1)\n",
    "y = df[\"species\"]\n",
    "\n",
    "X_train, X_test, y_train, y_test = train_test_split(\n",
    "    X, y, test_size=0.2, random_state=42\n",
    ")\n",
    "\n",
    "# ==============================\n",
    "# 3. Entrenar modelo\n",
    "# ==============================\n",
    "model = LogisticRegression(max_iter=5000)\n",
    "model.fit(X_train, y_train)\n",
    "\n",
    "# ==============================\n",
    "# 4. Definir experimento\n",
    "# ==============================\n",
    "mlflow.set_experiment(\"lucio_experiment3\")\n",
    "\n",
    "# ==============================\n",
    "# 5. Loggear y registrar el modelo\n",
    "# ==============================\n",
    "with mlflow.start_run(run_name=\"logistic_regression_run\") as run:\n",
    "    # Log del modelo como artifact\n",
    "    mlflow.sklearn.log_model(\n",
    "        sk_model=model,\n",
    "        artifact_path=\"model\"\n",
    "    )\n",
    "\n",
    "    # URI del modelo guardado en este run\n",
    "    run_id = run.info.run_id\n",
    "    model_uri = f\"runs:/{run_id}/model\"\n",
    "\n",
    "    # Registrar en el Model Registry del server\n",
    "    mlflow.register_model(\n",
    "        model_uri=model_uri,\n",
    "        name=\"lucio_model3\"\n",
    "    )\n",
    "\n",
    "print(\"✅ Modelo entrenado, logueado y registrado en MLflow\")"
   ]
  },
  {
   "cell_type": "code",
   "execution_count": 8,
   "id": "f3437c95-060c-4023-8c41-0a85ba7e0eea",
   "metadata": {
    "tags": []
   },
   "outputs": [
    {
     "name": "stdout",
     "output_type": "stream",
     "text": [
      "✅ Modelo lucio_model3 v1 promovido a Production\n"
     ]
    }
   ],
   "source": [
    "from mlflow.tracking import MlflowClient\n",
    "\n",
    "# Conexión al server\n",
    "mlflow.set_tracking_uri(\"http://10.43.100.98:5005\")\n",
    "client = MlflowClient()\n",
    "\n",
    "# Actualizar a producción\n",
    "model_name = \"lucio_model3\"\n",
    "model_version = 1  # la primera versión que acabas de crear\n",
    "\n",
    "client.transition_model_version_stage(\n",
    "    name=model_name,\n",
    "    version=model_version,\n",
    "    stage=\"Production\",\n",
    "    archive_existing_versions=True  # mueve versiones anteriores a Archived\n",
    ")\n",
    "\n",
    "print(f\"✅ Modelo {model_name} v{model_version} promovido a Production\")"
   ]
  }
 ],
 "metadata": {
  "kernelspec": {
   "display_name": "Python 3 (ipykernel)",
   "language": "python",
   "name": "python3"
  },
  "language_info": {
   "codemirror_mode": {
    "name": "ipython",
    "version": 3
   },
   "file_extension": ".py",
   "mimetype": "text/x-python",
   "name": "python",
   "nbconvert_exporter": "python",
   "pygments_lexer": "ipython3",
   "version": "3.9.23"
  }
 },
 "nbformat": 4,
 "nbformat_minor": 5
}
